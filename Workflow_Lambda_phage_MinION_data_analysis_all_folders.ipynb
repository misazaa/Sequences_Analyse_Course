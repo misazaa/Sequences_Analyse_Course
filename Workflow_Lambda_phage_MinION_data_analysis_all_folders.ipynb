{
 "cells": [
  {
   "cell_type": "markdown",
   "metadata": {},
   "source": [
    "<br>\n",
    "<br>\n",
    "<h1 align=\"center\">__Workflow for Lambda phage MinION data analysis __</h1>\n",
    "<br>\n",
    "<br>\n",
    "<h3 align=\"center\">By Maria Camila Isaza Álvarez</h3>\n",
    "<h4 align=\"center\">April 2018</h4>\n",
    "<br>"
   ]
  },
  {
   "cell_type": "markdown",
   "metadata": {},
   "source": [
    "## Aproach and metodology\n",
    "We wil be using the following workflow to analyze subsets of MinION data files \n",
    "<br>\n",
    "<br>\n",
    "<img src=\"workflow.png\">"
   ]
  },
  {
   "cell_type": "markdown",
   "metadata": {},
   "source": [
    "## 1. Data collection\n",
    "We are going to work with Oxford Nanopore sequencing data from the Lambda phage. For this assembly we are taking the .fast5 files from all the folders of the workapace. There are six foders with fast5 files and each folder has a size of approximatetly 4.00 GB on disk and it contains around 4,000 items."
   ]
  },
  {
   "cell_type": "markdown",
   "metadata": {},
   "source": [
    "## 2. Basecalling\n",
    "We will be using albacore 1.1.1, which is available to download from the ONT community"
   ]
  },
  {
   "cell_type": "markdown",
   "metadata": {},
   "source": [
    "We run with the -h option to get the usage instructions and the optional arguments"
   ]
  },
  {
   "cell_type": "code",
   "execution_count": 2,
   "metadata": {},
   "outputs": [
    {
     "name": "stdout",
     "output_type": "stream",
     "text": [
      "usage: read_fast5_basecaller.py [-h] [-l] [-v] [-i INPUT] -t WORKER_THREADS -s\r\n",
      "                                SAVE_PATH [--resume [X]] [-f FLOWCELL]\r\n",
      "                                [-k KIT] [--barcoding] [-c CONFIG]\r\n",
      "                                [-d DATA_PATH] [-b] [-r]\r\n",
      "                                [-n FILES_PER_BATCH_FOLDER] [-o OUTPUT_FORMAT]\r\n",
      "                                [-q READS_PER_FASTQ_BATCH]\r\n",
      "                                [--disable_filtering] [--disable_pings]\r\n",
      "\r\n",
      "ONT Albacore Sequencing Pipeline Software\r\n",
      "\r\n",
      "optional arguments:\r\n",
      "  -h, --help            show this help message and exit\r\n",
      "  -l, --list_workflows  List standard flowcell / kit combinations.\r\n",
      "  -v, --version         Print the software version.\r\n",
      "  -i INPUT, --input INPUT\r\n",
      "                        Folder containing read fast5 files (if not present,\r\n",
      "                        will expect file names on stdin).\r\n",
      "  -t WORKER_THREADS, --worker_threads WORKER_THREADS\r\n",
      "                        Number of worker threads to use.\r\n",
      "  -s SAVE_PATH, --save_path SAVE_PATH\r\n",
      "                        Path to save output.\r\n",
      "  --resume [X]          Resume previous run for the given save path. Optional\r\n",
      "                        parameter X is for debugging purposes only.\r\n",
      "  -f FLOWCELL, --flowcell FLOWCELL\r\n",
      "                        Flowcell used during the sequencing run.\r\n",
      "  -k KIT, --kit KIT     Kit used during the sequencing run.\r\n",
      "  --barcoding           Search for barcodes to demultiplex sequencing data.\r\n",
      "  -c CONFIG, --config CONFIG\r\n",
      "                        Optional configuration file to use.\r\n",
      "  -d DATA_PATH, --data_path DATA_PATH\r\n",
      "                        Optional path to model files.\r\n",
      "  -b, --debug           Output additional debug information to the log.\r\n",
      "  -r, --recursive       Recurse through subfolders for input data files.\r\n",
      "  -n FILES_PER_BATCH_FOLDER, --files_per_batch_folder FILES_PER_BATCH_FOLDER\r\n",
      "                        Maximum number of files in each batch subfolder. Set\r\n",
      "                        to 0 to disable batch subfolders.\r\n",
      "  -o OUTPUT_FORMAT, --output_format OUTPUT_FORMAT\r\n",
      "                        desired output format, can be fastq,fast5 or only one\r\n",
      "                        of these.\r\n",
      "  -q READS_PER_FASTQ_BATCH, --reads_per_fastq_batch READS_PER_FASTQ_BATCH\r\n",
      "                        number of reads per FastQ batch file. Set to 1 to\r\n",
      "                        receive one reads per file and file names which\r\n",
      "                        include the read ID. Set to 0 to have all reads per\r\n",
      "                        run ID written to one file.\r\n",
      "  --disable_filtering   Disable filtering into pass/fail folders\r\n",
      "  --disable_pings       Do not send summary information about the run\r\n"
     ]
    }
   ],
   "source": [
    "!read_fast5_basecaller.py -h"
   ]
  },
  {
   "cell_type": "markdown",
   "metadata": {},
   "source": [
    "Then we run the option -l to get the list of available configs used during the sequencing"
   ]
  },
  {
   "cell_type": "code",
   "execution_count": 3,
   "metadata": {},
   "outputs": [
    {
     "name": "stdout",
     "output_type": "stream",
     "text": [
      "Parsing config files in /Users/camilaisaza/anaconda3/lib/python3.6/site-packages/albacore/data_versioned.\n",
      "Available flowcell + kit combinations are:\n",
      "flowcell    kit         barcoding  config file\n",
      "FLO-MIN106  SQK-DCS108             r94_450bps_linear.cfg\n",
      "FLO-MIN106  SQK-LSK108             r94_450bps_linear.cfg\n",
      "FLO-MIN106  SQK-LWB001  included   r94_450bps_linear.cfg\n",
      "FLO-MIN106  SQK-LWP001             r94_450bps_linear.cfg\n",
      "FLO-MIN106  SQK-PCS108             r94_450bps_linear.cfg\n",
      "FLO-MIN106  SQK-PSB004  included   r94_450bps_linear.cfg\n",
      "FLO-MIN106  SQK-PSK004             r94_450bps_linear.cfg\n",
      "FLO-MIN106  SQK-RAB201  included   r94_450bps_linear.cfg\n",
      "FLO-MIN106  SQK-RAB204  included   r94_450bps_linear.cfg\n",
      "FLO-MIN106  SQK-RAD002             r94_450bps_linear.cfg\n",
      "FLO-MIN106  SQK-RAD003             r94_450bps_linear.cfg\n",
      "FLO-MIN106  SQK-RAD004             r94_450bps_linear.cfg\n",
      "FLO-MIN106  SQK-RAS201             r94_450bps_linear.cfg\n",
      "FLO-MIN106  SQK-RBK001  included   r94_450bps_linear.cfg\n",
      "FLO-MIN106  SQK-RBK004  included   r94_450bps_linear.cfg\n",
      "FLO-MIN106  SQK-RLB001  included   r94_450bps_linear.cfg\n",
      "FLO-MIN106  SQK-RLI001             r94_450bps_linear.cfg\n",
      "FLO-MIN106  SQK-RNA001             r941_70bps_rna_linear.cfg\n",
      "FLO-MIN106  SQK-RPB004  included   r94_450bps_linear.cfg\n",
      "FLO-MIN106  VSK-VBK001             r94_450bps_linear.cfg\n",
      "FLO-MIN106  VSK-VSK001             r94_450bps_linear.cfg\n",
      "FLO-MIN107  SQK-DCS108             r95_450bps_linear.cfg\n",
      "FLO-MIN107  SQK-LSK108             r95_450bps_linear.cfg\n",
      "FLO-MIN107  SQK-LWB001  included   r95_450bps_linear.cfg\n",
      "FLO-MIN107  SQK-LWP001             r95_450bps_linear.cfg\n",
      "FLO-MIN107  SQK-PCS108             r95_450bps_linear.cfg\n",
      "FLO-MIN107  SQK-PSB004  included   r95_450bps_linear.cfg\n",
      "FLO-MIN107  SQK-PSK004             r95_450bps_linear.cfg\n",
      "FLO-MIN107  SQK-RAB201  included   r95_450bps_linear.cfg\n",
      "FLO-MIN107  SQK-RAB204  included   r95_450bps_linear.cfg\n",
      "FLO-MIN107  SQK-RAD002             r95_450bps_linear.cfg\n",
      "FLO-MIN107  SQK-RAD003             r95_450bps_linear.cfg\n",
      "FLO-MIN107  SQK-RAD004             r95_450bps_linear.cfg\n",
      "FLO-MIN107  SQK-RAS201             r95_450bps_linear.cfg\n",
      "FLO-MIN107  SQK-RBK001  included   r95_450bps_linear.cfg\n",
      "FLO-MIN107  SQK-RBK004  included   r95_450bps_linear.cfg\n",
      "FLO-MIN107  SQK-RLB001  included   r95_450bps_linear.cfg\n",
      "FLO-MIN107  SQK-RLI001             r95_450bps_linear.cfg\n",
      "FLO-MIN107  SQK-RNA001             r941_70bps_rna_linear.cfg\n",
      "FLO-MIN107  SQK-RPB004  included   r95_450bps_linear.cfg\n",
      "FLO-MIN107  VSK-VBK001             r95_450bps_linear.cfg\n",
      "FLO-MIN107  VSK-VSK001             r95_450bps_linear.cfg\n",
      "FLO-PRO001  SQK-LSK109             r941_450bps_linear_prom.cfg\n"
     ]
    }
   ],
   "source": [
    "!read_fast5_basecaller.py -l"
   ]
  },
  {
   "cell_type": "markdown",
   "metadata": {},
   "source": [
    "Finally, we choose the arguments -i, -t, -s, -o and -c to do the base-calling and we select the config file r94_450bps_linear.cfg as the flowcell and the kit used were FLO-MIN106 and SQK-DCS108 respectively. The optional arguments means:\n",
    "-  -i: input file \n",
    "-  -r: recursively search\n",
    "-  -t: number of threads\n",
    "-  -s: output directory\n",
    "-  -o: output format\n",
    "-  -c: config file\n",
    "\n",
    "We cd into the directory containing the reads files and then we run the code: "
   ]
  },
  {
   "cell_type": "code",
   "execution_count": 1,
   "metadata": {},
   "outputs": [
    {
     "name": "stdout",
     "output_type": "stream",
     "text": [
      "| 23083 of 23083|###########################################|100% Time: 11:31:41\n"
     ]
    }
   ],
   "source": [
    "!read_fast5_basecaller.py -i ~/Documents/9._Noveno_semestre_2018-1/Analisis_de_secuencias/All_folders_taller_1/workspace -r -t 4 -s ~/Documents/9._Noveno_semestre_2018-1/Analisis_de_secuencias/All_folders_taller_1/outputalbacore -o fastq,fast5 -c r94_450bps_linear.cfg"
   ]
  },
  {
   "cell_type": "markdown",
   "metadata": {},
   "source": [
    "## 3 Extraction of FASTQ file using Poretools"
   ]
  },
  {
   "cell_type": "markdown",
   "metadata": {},
   "source": [
    "#### 3.1 Extraction of FASTQ file using Poretools with fastq files\n",
    "As poretools uses Python 2 we have to create a virtual environment to install and run the program"
   ]
  },
  {
   "cell_type": "markdown",
   "metadata": {},
   "source": [
    "To run a virtualenv with python 2, we type:"
   ]
  },
  {
   "cell_type": "code",
   "execution_count": 9,
   "metadata": {},
   "outputs": [],
   "source": [
    "!source activate python2"
   ]
  },
  {
   "cell_type": "markdown",
   "metadata": {},
   "source": [
    "An then, we run poretools with the code:"
   ]
  },
  {
   "cell_type": "code",
   "execution_count": 10,
   "metadata": {
    "scrolled": true
   },
   "outputs": [],
   "source": [
    "!poretools fastq /Users/camilaisaza/Documents/9._Noveno_semestre_2018-1/Analisis_de_secuencias/All_folders_taller_1/outputalbacore/workspace/pass > /Users/camilaisaza/Documents/9._Noveno_semestre_2018-1/Analisis_de_secuencias/All_folders_taller_1/outputporetools.fq"
   ]
  },
  {
   "cell_type": "markdown",
   "metadata": {},
   "source": [
    "#### 3.2 Extraction of FASTA file using poretools with fasta files"
   ]
  },
  {
   "cell_type": "code",
   "execution_count": 19,
   "metadata": {},
   "outputs": [],
   "source": [
    "!source activate python2"
   ]
  },
  {
   "cell_type": "code",
   "execution_count": 18,
   "metadata": {
    "scrolled": true
   },
   "outputs": [],
   "source": [
    "!poretools fasta /Users/camilaisaza/Documents/9._Noveno_semestre_2018-1/Analisis_de_secuencias/All_folders_taller_1/outputalbacore/workspace/pass > /Users/camilaisaza/Documents/9._Noveno_semestre_2018-1/Analisis_de_secuencias/All_folders_taller_1/outputporetools.fasta"
   ]
  },
  {
   "cell_type": "markdown",
   "metadata": {},
   "source": [
    "To obtain read lenght distribution we run:"
   ]
  },
  {
   "cell_type": "code",
   "execution_count": 2,
   "metadata": {},
   "outputs": [],
   "source": [
    "#poretools hist /Users/camilaisaza/Documents/9._Noveno_semestre_2018-1/Analisis_de_secuencias/All_folders_taller_1/outputalbacore/workspace/pass"
   ]
  },
  {
   "cell_type": "markdown",
   "metadata": {},
   "source": [
    "## 4. _De novo_ assembly"
   ]
  },
  {
   "cell_type": "markdown",
   "metadata": {},
   "source": [
    "We are going to use Minimap2 and miniasm; Minimap for mapping and miniasm for assembly. These softwares are usefull  for long, noisy reads, they do not have a correction or consensus step, and therefore the resulting assemblies are contiguous (i.e. long) but very noisy."
   ]
  },
  {
   "cell_type": "markdown",
   "metadata": {},
   "source": [
    "We start the mapping with an all against all comparison:"
   ]
  },
  {
   "cell_type": "markdown",
   "metadata": {},
   "source": [
    "#### 4.1 De novo assembly with fastq files"
   ]
  },
  {
   "cell_type": "code",
   "execution_count": 2,
   "metadata": {},
   "outputs": [
    {
     "name": "stdout",
     "output_type": "stream",
     "text": [
      "[M::mm_idx_gen::7.085*0.90] collected minimizers\n",
      "[M::mm_idx_gen::8.024*1.14] sorted minimizers\n",
      "[M::main::8.024*1.14] loaded/built the index for 14916 target sequence(s)\n",
      "[M::mm_mapopt_update::8.199*1.14] mid_occ = 443\n",
      "[M::mm_idx_stat] kmer size: 15; skip: 5; is_hpc: 0; #seq: 14916\n",
      "[M::mm_idx_stat::8.307*1.14] distinct minimizers: 10917685 (78.98% are singletons); average occurrences: 2.313; average spacing: 2.948\n",
      "[M::worker_pipeline::282.498*1.59] mapped 14916 sequences\n",
      "[M::main] Version: 2.10-r761\n",
      "[M::main] CMD: minimap2 -x ava-ont /Users/camilaisaza/Documents/9._Noveno_semestre_2018-1/Analisis_de_secuencias/All_folders_taller_1/outputporetools.fq /Users/camilaisaza/Documents/9._Noveno_semestre_2018-1/Analisis_de_secuencias/All_folders_taller_1/outputporetools.fq\n",
      "[M::main] Real time: 282.970 sec; CPU: 448.180 sec\n"
     ]
    }
   ],
   "source": [
    "!minimap2 -x ava-ont /Users/camilaisaza/Documents/9._Noveno_semestre_2018-1/Analisis_de_secuencias/All_folders_taller_1/outputporetools.fq /Users/camilaisaza/Documents/9._Noveno_semestre_2018-1/Analisis_de_secuencias/All_folders_taller_1/outputporetools.fq > /Users/camilaisaza/Documents/9._Noveno_semestre_2018-1/Analisis_de_secuencias/All_folders_taller_1/outputminimap2.paf.gz"
   ]
  },
  {
   "cell_type": "markdown",
   "metadata": {},
   "source": [
    "#### 4.2 De novo assembly with fastq files "
   ]
  },
  {
   "cell_type": "code",
   "execution_count": 20,
   "metadata": {},
   "outputs": [
    {
     "name": "stdout",
     "output_type": "stream",
     "text": [
      "[M::mm_idx_gen::5.781*0.98] collected minimizers\n",
      "[M::mm_idx_gen::6.697*1.25] sorted minimizers\n",
      "[M::main::6.697*1.25] loaded/built the index for 14916 target sequence(s)\n",
      "[M::mm_mapopt_update::6.877*1.24] mid_occ = 443\n",
      "[M::mm_idx_stat] kmer size: 15; skip: 5; is_hpc: 0; #seq: 14916\n",
      "[M::mm_idx_stat::6.986*1.24] distinct minimizers: 10917685 (78.98% are singletons); average occurrences: 2.313; average spacing: 2.948\n",
      "[M::worker_pipeline::344.570*1.28] mapped 14916 sequences\n",
      "[M::main] Version: 2.10-r761\n",
      "[M::main] CMD: minimap2 -x ava-ont /Users/camilaisaza/Documents/9._Noveno_semestre_2018-1/Analisis_de_secuencias/All_folders_taller_1/outputporetools.fasta /Users/camilaisaza/Documents/9._Noveno_semestre_2018-1/Analisis_de_secuencias/All_folders_taller_1/outputporetools.fasta\n",
      "[M::main] Real time: 344.932 sec; CPU: 441.753 sec\n"
     ]
    }
   ],
   "source": [
    "!minimap2 -x ava-ont /Users/camilaisaza/Documents/9._Noveno_semestre_2018-1/Analisis_de_secuencias/All_folders_taller_1/outputporetools.fasta /Users/camilaisaza/Documents/9._Noveno_semestre_2018-1/Analisis_de_secuencias/All_folders_taller_1/outputporetools.fasta > /Users/camilaisaza/Documents/9._Noveno_semestre_2018-1/Analisis_de_secuencias/All_folders_taller_1/outputminimap2defasta.paf"
   ]
  },
  {
   "cell_type": "markdown",
   "metadata": {},
   "source": [
    "#### 4.1.2 Then we do the actual assembly typing:"
   ]
  },
  {
   "cell_type": "code",
   "execution_count": 4,
   "metadata": {
    "scrolled": true
   },
   "outputs": [
    {
     "name": "stdout",
     "output_type": "stream",
     "text": [
      "[M::main] ===> Step 1: reading read mappings <===\n",
      "[M::ma_hit_read::65.960*0.32] read 13446574 hits; stored 15124789 hits and 9015 sequences (67250212 bp)\n",
      "[M::main] ===> Step 2: 1-pass (crude) read selection <===\n",
      "[M::ma_hit_sub::69.801*0.36] 8968 query sequences remain after sub\n",
      "[M::ma_hit_cut::70.025*0.36] 14971747 hits remain after cut\n",
      "[M::ma_hit_flt::70.300*0.36] 14664791 hits remain after filtering; crude coverage after filtering: 1165.79\n",
      "[M::main] ===> Step 3: 2-pass (fine) read selection <===\n",
      "[M::ma_hit_sub::71.333*0.37] 8956 query sequences remain after sub\n",
      "[M::ma_hit_cut::71.536*0.37] 14657555 hits remain after cut\n",
      "[M::ma_hit_contained::71.862*0.38] 12 sequences and 96 hits remain after containment removal\n",
      "[M::main] ===> Step 4: graph cleaning <===\n",
      "[M::ma_sg_gen] read 86 arcs\n",
      "[M::main] ===> Step 4.1: transitive reduction <===\n",
      "[M::asg_arc_del_trans] transitively reduced 57 arcs\n",
      "[M::asg_arc_del_multi] removed 0 multi-arcs\n",
      "[M::asg_arc_del_asymm] removed 1 asymmetric arcs\n",
      "[M::main] ===> Step 4.2: initial tip cutting and bubble popping <===\n",
      "[M::asg_cut_tip] cut 2 tips\n",
      "[M::asg_pop_bubble] popped 1 bubbles and trimmed 0 tips\n",
      "[M::main] ===> Step 4.3: cutting short overlaps (3 rounds in total) <===\n",
      "[M::asg_arc_del_short] removed 0 short overlaps\n",
      "[M::asg_arc_del_short] removed 0 short overlaps\n",
      "[M::asg_arc_del_short] removed 0 short overlaps\n",
      "[M::main] ===> Step 4.4: removing short internal sequences and bi-loops <===\n",
      "[M::asg_cut_internal] cut 0 internal sequences\n",
      "[M::asg_cut_biloop] cut 0 small bi-loops\n",
      "[M::asg_cut_tip] cut 0 tips\n",
      "[M::asg_pop_bubble] popped 0 bubbles and trimmed 0 tips\n",
      "[M::main] ===> Step 4.5: aggressively cutting short overlaps <===\n",
      "[M::asg_arc_del_short] removed 0 short overlaps\n",
      "[M::main] ===> Step 5: generating unitigs <===\n",
      "[M::main] Version: 0.2-r168-dirty\n",
      "[M::main] CMD: miniasm -f /Users/camilaisaza/Documents/9._Noveno_semestre_2018-1/Analisis_de_secuencias/All_folders_taller_1/outputporetools.fq /Users/camilaisaza/Documents/9._Noveno_semestre_2018-1/Analisis_de_secuencias/All_folders_taller_1/outputminimap2.paf.gz\n",
      "[M::main] Real time: 74.019 sec; CPU: 27.352 sec\n"
     ]
    }
   ],
   "source": [
    "!miniasm -f /Users/camilaisaza/Documents/9._Noveno_semestre_2018-1/Analisis_de_secuencias/All_folders_taller_1/outputporetools.fq /Users/camilaisaza/Documents/9._Noveno_semestre_2018-1/Analisis_de_secuencias/All_folders_taller_1/outputminimap2.paf.gz > /Users/camilaisaza/Documents/9._Noveno_semestre_2018-1/Analisis_de_secuencias/All_folders_taller_1/ensamble_raw.gfa"
   ]
  },
  {
   "cell_type": "markdown",
   "metadata": {},
   "source": [
    "#### 4.2.2 The actual assembly with the fasta format would be:"
   ]
  },
  {
   "cell_type": "code",
   "execution_count": 21,
   "metadata": {},
   "outputs": [
    {
     "name": "stdout",
     "output_type": "stream",
     "text": [
      "[M::main] ===> Step 1: reading read mappings <===\n",
      "[M::ma_hit_read::45.639*0.46] read 13446574 hits; stored 15124789 hits and 9015 sequences (67250212 bp)\n",
      "[M::main] ===> Step 2: 1-pass (crude) read selection <===\n",
      "[M::ma_hit_sub::49.555*0.50] 8968 query sequences remain after sub\n",
      "[M::ma_hit_cut::49.778*0.50] 14971747 hits remain after cut\n",
      "[M::ma_hit_flt::50.045*0.51] 14664791 hits remain after filtering; crude coverage after filtering: 1165.79\n",
      "[M::main] ===> Step 3: 2-pass (fine) read selection <===\n",
      "[M::ma_hit_sub::51.106*0.52] 8956 query sequences remain after sub\n",
      "[M::ma_hit_cut::51.313*0.52] 14657555 hits remain after cut\n",
      "[M::ma_hit_contained::51.665*0.52] 12 sequences and 96 hits remain after containment removal\n",
      "[M::main] ===> Step 4: graph cleaning <===\n",
      "[M::ma_sg_gen] read 86 arcs\n",
      "[M::main] ===> Step 4.1: transitive reduction <===\n",
      "[M::asg_arc_del_trans] transitively reduced 57 arcs\n",
      "[M::asg_arc_del_multi] removed 0 multi-arcs\n",
      "[M::asg_arc_del_asymm] removed 1 asymmetric arcs\n",
      "[M::main] ===> Step 4.2: initial tip cutting and bubble popping <===\n",
      "[M::asg_cut_tip] cut 2 tips\n",
      "[M::asg_pop_bubble] popped 1 bubbles and trimmed 0 tips\n",
      "[M::main] ===> Step 4.3: cutting short overlaps (3 rounds in total) <===\n",
      "[M::asg_arc_del_short] removed 0 short overlaps\n",
      "[M::asg_arc_del_short] removed 0 short overlaps\n",
      "[M::asg_arc_del_short] removed 0 short overlaps\n",
      "[M::main] ===> Step 4.4: removing short internal sequences and bi-loops <===\n",
      "[M::asg_cut_internal] cut 0 internal sequences\n",
      "[M::asg_cut_biloop] cut 0 small bi-loops\n",
      "[M::asg_cut_tip] cut 0 tips\n",
      "[M::asg_pop_bubble] popped 0 bubbles and trimmed 0 tips\n",
      "[M::main] ===> Step 4.5: aggressively cutting short overlaps <===\n",
      "[M::asg_arc_del_short] removed 0 short overlaps\n",
      "[M::main] ===> Step 5: generating unitigs <===\n",
      "[M::main] Version: 0.2-r168-dirty\n",
      "[M::main] CMD: miniasm -f /Users/camilaisaza/Documents/9._Noveno_semestre_2018-1/Analisis_de_secuencias/All_folders_taller_1/outputporetools.fasta /Users/camilaisaza/Documents/9._Noveno_semestre_2018-1/Analisis_de_secuencias/All_folders_taller_1/outputminimap2defasta.paf\n",
      "[M::main] Real time: 53.142 sec; CPU: 27.070 sec\n"
     ]
    }
   ],
   "source": [
    "!miniasm -f /Users/camilaisaza/Documents/9._Noveno_semestre_2018-1/Analisis_de_secuencias/All_folders_taller_1/outputporetools.fasta /Users/camilaisaza/Documents/9._Noveno_semestre_2018-1/Analisis_de_secuencias/All_folders_taller_1/outputminimap2defasta.paf > /Users/camilaisaza/Documents/9._Noveno_semestre_2018-1/Analisis_de_secuencias/All_folders_taller_1/ensamble_rawdefasta.gfa"
   ]
  },
  {
   "cell_type": "markdown",
   "metadata": {},
   "source": [
    "We transform the format of output file from .gfa to .fasta"
   ]
  },
  {
   "cell_type": "code",
   "execution_count": 5,
   "metadata": {},
   "outputs": [],
   "source": [
    "!awk '/^S/{print \">\"$2\"\\n\"$3}' /Users/camilaisaza/Documents/9._Noveno_semestre_2018-1/Analisis_de_secuencias/All_folders_taller_1/ensamble_raw.gfa | fold > /Users/camilaisaza/Documents/9._Noveno_semestre_2018-1/Analisis_de_secuencias/All_folders_taller_1/ensamble_raw.fasta"
   ]
  },
  {
   "cell_type": "code",
   "execution_count": 22,
   "metadata": {},
   "outputs": [],
   "source": [
    "!awk '/^S/{print \">\"$2\"\\n\"$3}' /Users/camilaisaza/Documents/9._Noveno_semestre_2018-1/Analisis_de_secuencias/All_folders_taller_1/ensamble_rawdefasta.gfa | fold > /Users/camilaisaza/Documents/9._Noveno_semestre_2018-1/Analisis_de_secuencias/All_folders_taller_1/ensamble_rawdefasta.fasta"
   ]
  },
  {
   "cell_type": "markdown",
   "metadata": {},
   "source": [
    "Finally, we count the number of contig by typing:"
   ]
  },
  {
   "cell_type": "code",
   "execution_count": 6,
   "metadata": {},
   "outputs": [
    {
     "name": "stdout",
     "output_type": "stream",
     "text": [
      "1\r\n"
     ]
    }
   ],
   "source": [
    "!grep -c \">\" /Users/camilaisaza/Documents/9._Noveno_semestre_2018-1/Analisis_de_secuencias/All_folders_taller_1/ensamble_raw.fasta"
   ]
  },
  {
   "cell_type": "code",
   "execution_count": 23,
   "metadata": {},
   "outputs": [
    {
     "name": "stdout",
     "output_type": "stream",
     "text": [
      "1\r\n"
     ]
    }
   ],
   "source": [
    "!grep -c \">\" /Users/camilaisaza/Documents/9._Noveno_semestre_2018-1/Analisis_de_secuencias/All_folders_taller_1/ensamble_rawdefasta.fasta"
   ]
  },
  {
   "cell_type": "markdown",
   "metadata": {},
   "source": [
    "## 5. Assembly statistics"
   ]
  },
  {
   "cell_type": "markdown",
   "metadata": {},
   "source": [
    "We can run assembly-stats to conduct basic statistics like N50, assembly size and number of contigs"
   ]
  },
  {
   "cell_type": "code",
   "execution_count": 16,
   "metadata": {
    "scrolled": true
   },
   "outputs": [
    {
     "name": "stdout",
     "output_type": "stream",
     "text": [
      "stats for /Users/camilaisaza/Documents/9._Noveno_semestre_2018-1/Analisis_de_secuencias/All_folders_taller_1/ensamble_raw.fasta\r\n",
      "sum = 46890, n = 1, ave = 46890.00, largest = 46890\r\n",
      "N50 = 46890, n = 1\r\n",
      "N60 = 46890, n = 1\r\n",
      "N70 = 46890, n = 1\r\n",
      "N80 = 46890, n = 1\r\n",
      "N90 = 46890, n = 1\r\n",
      "N100 = 46890, n = 1\r\n",
      "N_count = 0\r\n",
      "Gaps = 0\r\n"
     ]
    }
   ],
   "source": [
    "!assembly-stats /Users/camilaisaza/Documents/9._Noveno_semestre_2018-1/Analisis_de_secuencias/All_folders_taller_1/ensamble_raw.fasta"
   ]
  },
  {
   "cell_type": "markdown",
   "metadata": {},
   "source": [
    "We can also run infoseq to know the length and %GC of the contigs:"
   ]
  },
  {
   "cell_type": "code",
   "execution_count": 1,
   "metadata": {
    "scrolled": true
   },
   "outputs": [
    {
     "name": "stdout",
     "output_type": "stream",
     "text": [
      "Accession      Length %GC    \r\n",
      "-              46890  50.15  \r\n"
     ]
    }
   ],
   "source": [
    "!infoseq -auto -only -accession -length -pgc /Users/camilaisaza/Documents/9._Noveno_semestre_2018-1/Analisis_de_secuencias/All_folders_taller_1/ensamble_rawdefasta.fasta"
   ]
  },
  {
   "cell_type": "code",
   "execution_count": 11,
   "metadata": {},
   "outputs": [
    {
     "name": "stderr",
     "output_type": "stream",
     "text": [
      "/anaconda3/lib/python3.6/site-packages/ipykernel_launcher.py:4: UserWarning: \n",
      "This call to matplotlib.use() has no effect because the backend has already\n",
      "been chosen; matplotlib.use() must be called *before* pylab, matplotlib.pyplot,\n",
      "or matplotlib.backends is imported for the first time.\n",
      "\n",
      "The backend was *originally* set to 'module://ipykernel.pylab.backend_inline' by the following code:\n",
      "  File \"/anaconda3/lib/python3.6/runpy.py\", line 193, in _run_module_as_main\n",
      "    \"__main__\", mod_spec)\n",
      "  File \"/anaconda3/lib/python3.6/runpy.py\", line 85, in _run_code\n",
      "    exec(code, run_globals)\n",
      "  File \"/anaconda3/lib/python3.6/site-packages/ipykernel_launcher.py\", line 16, in <module>\n",
      "    app.launch_new_instance()\n",
      "  File \"/anaconda3/lib/python3.6/site-packages/traitlets/config/application.py\", line 658, in launch_instance\n",
      "    app.start()\n",
      "  File \"/anaconda3/lib/python3.6/site-packages/ipykernel/kernelapp.py\", line 478, in start\n",
      "    self.io_loop.start()\n",
      "  File \"/anaconda3/lib/python3.6/site-packages/zmq/eventloop/ioloop.py\", line 177, in start\n",
      "    super(ZMQIOLoop, self).start()\n",
      "  File \"/anaconda3/lib/python3.6/site-packages/tornado/ioloop.py\", line 888, in start\n",
      "    handler_func(fd_obj, events)\n",
      "  File \"/anaconda3/lib/python3.6/site-packages/tornado/stack_context.py\", line 277, in null_wrapper\n",
      "    return fn(*args, **kwargs)\n",
      "  File \"/anaconda3/lib/python3.6/site-packages/zmq/eventloop/zmqstream.py\", line 440, in _handle_events\n",
      "    self._handle_recv()\n",
      "  File \"/anaconda3/lib/python3.6/site-packages/zmq/eventloop/zmqstream.py\", line 472, in _handle_recv\n",
      "    self._run_callback(callback, msg)\n",
      "  File \"/anaconda3/lib/python3.6/site-packages/zmq/eventloop/zmqstream.py\", line 414, in _run_callback\n",
      "    callback(*args, **kwargs)\n",
      "  File \"/anaconda3/lib/python3.6/site-packages/tornado/stack_context.py\", line 277, in null_wrapper\n",
      "    return fn(*args, **kwargs)\n",
      "  File \"/anaconda3/lib/python3.6/site-packages/ipykernel/kernelbase.py\", line 283, in dispatcher\n",
      "    return self.dispatch_shell(stream, msg)\n",
      "  File \"/anaconda3/lib/python3.6/site-packages/ipykernel/kernelbase.py\", line 233, in dispatch_shell\n",
      "    handler(stream, idents, msg)\n",
      "  File \"/anaconda3/lib/python3.6/site-packages/ipykernel/kernelbase.py\", line 399, in execute_request\n",
      "    user_expressions, allow_stdin)\n",
      "  File \"/anaconda3/lib/python3.6/site-packages/ipykernel/ipkernel.py\", line 208, in do_execute\n",
      "    res = shell.run_cell(code, store_history=store_history, silent=silent)\n",
      "  File \"/anaconda3/lib/python3.6/site-packages/ipykernel/zmqshell.py\", line 537, in run_cell\n",
      "    return super(ZMQInteractiveShell, self).run_cell(*args, **kwargs)\n",
      "  File \"/anaconda3/lib/python3.6/site-packages/IPython/core/interactiveshell.py\", line 2728, in run_cell\n",
      "    interactivity=interactivity, compiler=compiler, result=result)\n",
      "  File \"/anaconda3/lib/python3.6/site-packages/IPython/core/interactiveshell.py\", line 2850, in run_ast_nodes\n",
      "    if self.run_code(code, result):\n",
      "  File \"/anaconda3/lib/python3.6/site-packages/IPython/core/interactiveshell.py\", line 2910, in run_code\n",
      "    exec(code_obj, self.user_global_ns, self.user_ns)\n",
      "  File \"<ipython-input-11-638d4c224b4e>\", line 1, in <module>\n",
      "    get_ipython().run_line_magic('matplotlib', 'inline')\n",
      "  File \"/anaconda3/lib/python3.6/site-packages/IPython/core/interactiveshell.py\", line 2095, in run_line_magic\n",
      "    result = fn(*args,**kwargs)\n",
      "  File \"<decorator-gen-107>\", line 2, in matplotlib\n",
      "  File \"/anaconda3/lib/python3.6/site-packages/IPython/core/magic.py\", line 187, in <lambda>\n",
      "    call = lambda f, *a, **k: f(*a, **k)\n",
      "  File \"/anaconda3/lib/python3.6/site-packages/IPython/core/magics/pylab.py\", line 99, in matplotlib\n",
      "    gui, backend = self.shell.enable_matplotlib(args.gui)\n",
      "  File \"/anaconda3/lib/python3.6/site-packages/IPython/core/interactiveshell.py\", line 2978, in enable_matplotlib\n",
      "    pt.activate_matplotlib(backend)\n",
      "  File \"/anaconda3/lib/python3.6/site-packages/IPython/core/pylabtools.py\", line 308, in activate_matplotlib\n",
      "    matplotlib.pyplot.switch_backend(backend)\n",
      "  File \"/anaconda3/lib/python3.6/site-packages/matplotlib/pyplot.py\", line 232, in switch_backend\n",
      "    matplotlib.use(newbackend, warn=False, force=True)\n",
      "  File \"/anaconda3/lib/python3.6/site-packages/matplotlib/__init__.py\", line 1305, in use\n",
      "    reload(sys.modules['matplotlib.backends'])\n",
      "  File \"/anaconda3/lib/python3.6/importlib/__init__.py\", line 166, in reload\n",
      "    _bootstrap._exec(spec, module)\n",
      "  File \"/anaconda3/lib/python3.6/site-packages/matplotlib/backends/__init__.py\", line 14, in <module>\n",
      "    line for line in traceback.format_stack()\n",
      "\n",
      "\n",
      "  after removing the cwd from sys.path.\n",
      "/anaconda3/lib/python3.6/site-packages/ipykernel_launcher.py:16: UserWarning: \n",
      "This call to matplotlib.use() has no effect because the backend has already\n",
      "been chosen; matplotlib.use() must be called *before* pylab, matplotlib.pyplot,\n",
      "or matplotlib.backends is imported for the first time.\n",
      "\n",
      "The backend was *originally* set to 'module://ipykernel.pylab.backend_inline' by the following code:\n",
      "  File \"/anaconda3/lib/python3.6/runpy.py\", line 193, in _run_module_as_main\n",
      "    \"__main__\", mod_spec)\n",
      "  File \"/anaconda3/lib/python3.6/runpy.py\", line 85, in _run_code\n",
      "    exec(code, run_globals)\n",
      "  File \"/anaconda3/lib/python3.6/site-packages/ipykernel_launcher.py\", line 16, in <module>\n",
      "    app.launch_new_instance()\n",
      "  File \"/anaconda3/lib/python3.6/site-packages/traitlets/config/application.py\", line 658, in launch_instance\n",
      "    app.start()\n",
      "  File \"/anaconda3/lib/python3.6/site-packages/ipykernel/kernelapp.py\", line 478, in start\n",
      "    self.io_loop.start()\n",
      "  File \"/anaconda3/lib/python3.6/site-packages/zmq/eventloop/ioloop.py\", line 177, in start\n",
      "    super(ZMQIOLoop, self).start()\n",
      "  File \"/anaconda3/lib/python3.6/site-packages/tornado/ioloop.py\", line 888, in start\n",
      "    handler_func(fd_obj, events)\n",
      "  File \"/anaconda3/lib/python3.6/site-packages/tornado/stack_context.py\", line 277, in null_wrapper\n",
      "    return fn(*args, **kwargs)\n",
      "  File \"/anaconda3/lib/python3.6/site-packages/zmq/eventloop/zmqstream.py\", line 440, in _handle_events\n",
      "    self._handle_recv()\n",
      "  File \"/anaconda3/lib/python3.6/site-packages/zmq/eventloop/zmqstream.py\", line 472, in _handle_recv\n",
      "    self._run_callback(callback, msg)\n",
      "  File \"/anaconda3/lib/python3.6/site-packages/zmq/eventloop/zmqstream.py\", line 414, in _run_callback\n",
      "    callback(*args, **kwargs)\n",
      "  File \"/anaconda3/lib/python3.6/site-packages/tornado/stack_context.py\", line 277, in null_wrapper\n",
      "    return fn(*args, **kwargs)\n",
      "  File \"/anaconda3/lib/python3.6/site-packages/ipykernel/kernelbase.py\", line 283, in dispatcher\n",
      "    return self.dispatch_shell(stream, msg)\n",
      "  File \"/anaconda3/lib/python3.6/site-packages/ipykernel/kernelbase.py\", line 233, in dispatch_shell\n",
      "    handler(stream, idents, msg)\n",
      "  File \"/anaconda3/lib/python3.6/site-packages/ipykernel/kernelbase.py\", line 399, in execute_request\n",
      "    user_expressions, allow_stdin)\n",
      "  File \"/anaconda3/lib/python3.6/site-packages/ipykernel/ipkernel.py\", line 208, in do_execute\n",
      "    res = shell.run_cell(code, store_history=store_history, silent=silent)\n",
      "  File \"/anaconda3/lib/python3.6/site-packages/ipykernel/zmqshell.py\", line 537, in run_cell\n",
      "    return super(ZMQInteractiveShell, self).run_cell(*args, **kwargs)\n",
      "  File \"/anaconda3/lib/python3.6/site-packages/IPython/core/interactiveshell.py\", line 2728, in run_cell\n",
      "    interactivity=interactivity, compiler=compiler, result=result)\n",
      "  File \"/anaconda3/lib/python3.6/site-packages/IPython/core/interactiveshell.py\", line 2850, in run_ast_nodes\n",
      "    if self.run_code(code, result):\n",
      "  File \"/anaconda3/lib/python3.6/site-packages/IPython/core/interactiveshell.py\", line 2910, in run_code\n",
      "    exec(code_obj, self.user_global_ns, self.user_ns)\n",
      "  File \"<ipython-input-11-638d4c224b4e>\", line 1, in <module>\n",
      "    get_ipython().run_line_magic('matplotlib', 'inline')\n",
      "  File \"/anaconda3/lib/python3.6/site-packages/IPython/core/interactiveshell.py\", line 2095, in run_line_magic\n",
      "    result = fn(*args,**kwargs)\n",
      "  File \"<decorator-gen-107>\", line 2, in matplotlib\n",
      "  File \"/anaconda3/lib/python3.6/site-packages/IPython/core/magic.py\", line 187, in <lambda>\n",
      "    call = lambda f, *a, **k: f(*a, **k)\n",
      "  File \"/anaconda3/lib/python3.6/site-packages/IPython/core/magics/pylab.py\", line 99, in matplotlib\n",
      "    gui, backend = self.shell.enable_matplotlib(args.gui)\n",
      "  File \"/anaconda3/lib/python3.6/site-packages/IPython/core/interactiveshell.py\", line 2978, in enable_matplotlib\n",
      "    pt.activate_matplotlib(backend)\n",
      "  File \"/anaconda3/lib/python3.6/site-packages/IPython/core/pylabtools.py\", line 308, in activate_matplotlib\n",
      "    matplotlib.pyplot.switch_backend(backend)\n",
      "  File \"/anaconda3/lib/python3.6/site-packages/matplotlib/pyplot.py\", line 232, in switch_backend\n",
      "    matplotlib.use(newbackend, warn=False, force=True)\n",
      "  File \"/anaconda3/lib/python3.6/site-packages/matplotlib/__init__.py\", line 1305, in use\n",
      "    reload(sys.modules['matplotlib.backends'])\n",
      "  File \"/anaconda3/lib/python3.6/importlib/__init__.py\", line 166, in reload\n",
      "    _bootstrap._exec(spec, module)\n",
      "  File \"/anaconda3/lib/python3.6/site-packages/matplotlib/backends/__init__.py\", line 14, in <module>\n",
      "    line for line in traceback.format_stack()\n",
      "\n",
      "\n",
      "  app.launch_new_instance()\n"
     ]
    },
    {
     "ename": "ModuleNotFoundError",
     "evalue": "No module named 'pauvre'",
     "output_type": "error",
     "traceback": [
      "\u001b[0;31m---------------------------------------------------------------------------\u001b[0m",
      "\u001b[0;31mModuleNotFoundError\u001b[0m                       Traceback (most recent call last)",
      "\u001b[0;32m<ipython-input-11-638d4c224b4e>\u001b[0m in \u001b[0;36m<module>\u001b[0;34m()\u001b[0m\n\u001b[1;32m     22\u001b[0m \u001b[0;32mimport\u001b[0m \u001b[0mos\u001b[0m\u001b[0;34m.\u001b[0m\u001b[0mpath\u001b[0m \u001b[0;32mas\u001b[0m \u001b[0mopath\u001b[0m\u001b[0;34m\u001b[0m\u001b[0m\n\u001b[1;32m     23\u001b[0m \u001b[0;32mfrom\u001b[0m \u001b[0msys\u001b[0m \u001b[0;32mimport\u001b[0m \u001b[0mstderr\u001b[0m\u001b[0;34m\u001b[0m\u001b[0m\n\u001b[0;32m---> 24\u001b[0;31m \u001b[0;32mfrom\u001b[0m \u001b[0mpauvre\u001b[0m\u001b[0;34m.\u001b[0m\u001b[0mfunctions\u001b[0m \u001b[0;32mimport\u001b[0m \u001b[0mparse_fastq_length_meanqual\u001b[0m\u001b[0;34m,\u001b[0m \u001b[0mprint_images\u001b[0m\u001b[0;34m,\u001b[0m \u001b[0mfilter_fastq_length_meanqual\u001b[0m\u001b[0;34m\u001b[0m\u001b[0m\n\u001b[0m\u001b[1;32m     25\u001b[0m \u001b[0;32mfrom\u001b[0m \u001b[0mpauvre\u001b[0m\u001b[0;34m.\u001b[0m\u001b[0mstats\u001b[0m \u001b[0;32mimport\u001b[0m \u001b[0mstats\u001b[0m\u001b[0;34m\u001b[0m\u001b[0m\n\u001b[1;32m     26\u001b[0m \u001b[0;32mimport\u001b[0m \u001b[0mpauvre\u001b[0m\u001b[0;34m.\u001b[0m\u001b[0mrcparams\u001b[0m \u001b[0;32mas\u001b[0m \u001b[0mrc\u001b[0m\u001b[0;34m\u001b[0m\u001b[0m\n",
      "\u001b[0;31mModuleNotFoundError\u001b[0m: No module named 'pauvre'"
     ]
    }
   ],
   "source": [
    "%matplotlib inline\n",
    "\n",
    "import matplotlib\n",
    "matplotlib.use(\"Agg\")\n",
    "import numpy as np\n",
    "import pandas as pd\n",
    "\n",
    "import warnings\n",
    "import matplotlib.cbook\n",
    "warnings.filterwarnings(\"ignore\",category=matplotlib.cbook.mplDeprecation)\n",
    "\n",
    "import matplotlib.pyplot as plt\n",
    "\n",
    "import ast\n",
    "import matplotlib\n",
    "matplotlib.use('Agg')\n",
    "import matplotlib.pyplot as plt\n",
    "import matplotlib.patches as mplpatches\n",
    "from matplotlib.colors import LinearSegmentedColormap\n",
    "import numpy as np\n",
    "import pandas as pd\n",
    "import os.path as opath\n",
    "from sys import stderr\n",
    "from pauvre.functions import parse_fastq_length_meanqual, print_images, filter_fastq_length_meanqual\n",
    "from pauvre.stats import stats\n",
    "import pauvre.rcparams as rc\n",
    "import logging"
   ]
  },
  {
   "cell_type": "code",
   "execution_count": 14,
   "metadata": {},
   "outputs": [
    {
     "name": "stdout",
     "output_type": "stream",
     "text": [
      "Keeping reads that satisfy: length >= 0 and meanQual >= 0\n",
      "# Fastq stats for outputporetools.fq, reads >= 0bp\n",
      "numReads: 14916\n",
      "%totalNumReads: 100.00\n",
      "numBasepairs: 74455398\n",
      "%totalBasepairs: 100.00\n",
      "meanLen: 4991.6464199517295\n",
      "medianLen: 2752.5\n",
      "minLen: 156\n",
      "maxLen: 108424\n",
      "N50: 8415\n",
      "L50: 2581\n",
      "\n",
      "# Fastq stats for outputporetools.fq, reads >= 1000bp\n",
      "numReads: 12601\n",
      "%totalNumReads: 84.48\n",
      "numBasepairs: 72848884\n",
      "%totalBasepairs: 97.84\n",
      "meanLen: 5781.198635028966\n",
      "medianLen: 4146.0\n",
      "minLen: 1000\n",
      "maxLen: 108424\n",
      "N50: 8619\n",
      "L50: 2487\n",
      "\n",
      "# Fastq stats for outputporetools.fq, reads >= 5000bp\n",
      "numReads: 5239\n",
      "%totalNumReads: 35.12\n",
      "numBasepairs: 54469188\n",
      "%totalBasepairs: 73.16\n",
      "meanLen: 10396.867341095629\n",
      "medianLen: 8349.0\n",
      "minLen: 5000\n",
      "maxLen: 108424\n",
      "N50: 11208\n",
      "L50: 1549\n",
      "\n",
      "# Fastq stats for outputporetools.fq, reads >= 10000bp\n",
      "numReads: 1931\n",
      "%totalNumReads: 12.95\n",
      "numBasepairs: 31273271\n",
      "%totalBasepairs: 42.00\n",
      "meanLen: 16195.375970999483\n",
      "medianLen: 13825.0\n",
      "minLen: 10000\n",
      "maxLen: 108424\n",
      "N50: 16173\n",
      "L50: 673\n",
      "\n",
      "\n",
      "                    Basepairs >= bin by mean PHRED and length               \n",
      "minLen        Q4        Q5        Q6        Q7        Q8       Q9   Q10  Q11\n",
      "     0  74455398  73802143  73571209  71159616  33309329  4448684  3230    0\n",
      "   250  74447607  73794352  73563418  71153526  33307120  4447963  2758    0\n",
      "   500  74302909  73649654  73418720  71022703  33252965  4439753  2758    0\n",
      "   750  73702591  73049336  72818912  70454204  32989619  4401143  2758    0\n",
      "  1000  72848884  72196506  71966952  69639876  32575475  4335711  1092    0\n",
      "  1500  70638403  69986025  69757671  67556778  31560896  4182850     0    0\n",
      "  2000  67971858  67319480  67091126  64986031  30313993  4025920     0    0\n",
      "  2500  65132575  64480197  64254088  62291773  28948865  3823972     0    0\n",
      "  3000  63491889  62839511  62616136  60700697  28145383  3705154     0    0\n",
      "  3500  63354074  62701696  62478321  60576303  28103637  3698175     0    0\n",
      "  4000  60260534  59608156  59388347  57590482  26653100  3501039     0    0\n",
      "  4500  57225697  56573319  56353510  54665684  25162069  3311955     0    0\n",
      "  5000  54469188  53816810  53601695  52023868  24059985  3139889     0    0\n",
      "  5500  51710565  51058187  50848479  49354811  22846324  2935821     0    0\n",
      "  6000  48880332  48227954  48018246  46644775  21506617  2739302     0    0\n",
      "  6500  46251335  45598957  45389249  44122941  20281864  2520330     0    0\n",
      "  7000  43739352  43086974  42877266  41671918  19111668  2344209     0    0\n",
      "  7500  41320289  40667911  40458203  39304045  17994817  2249350     0    0\n",
      "  8000  39167161  38514783  38305075  37196796  17034394  2163968     0    0\n",
      "  8500  36952388  36300010  36090302  35064062  16110973  2040062     0    0\n",
      "  9000  35005797  34353419  34143711  33134949  15186485  1935506     0    0\n",
      "  9500  32997990  32345612  32135904  31182929  14306621  1833115     0    0\n",
      " 10000  31273271  30620893  30420709  29516606  13507186  1735467     0    0\n",
      " 11000  27832763  27180385  26990920  26170955  11907823  1494208     0    0\n",
      " 12000  24845671  24193293  24003828  23275026  10586758  1299521     0    0\n",
      " 13000  22187441  21535063  21358123  20691806   9201126  1137534     0    0\n",
      " 14000  19696581  19044203  18867263  18361293   8231099   975814     0    0\n",
      " 15000  17557683  16905305  16728365  16323449   7336756   861416     0    0\n",
      " 16000  15885234  15232856  15055916  14682573   6685842   784507     0    0\n",
      " 17000  14300293  13647915  13470975  13180588   6044275   702370     0    0\n",
      " 18000  12797724  12145346  11968406  11747793   5416916   597616     0    0\n",
      " 19000  11522371  10869993  10693053  10490687   4899090   597616     0    0\n",
      " 20000  10233060   9580682   9403742   9259433   4254059   519825     0    0\n",
      " 21000   9169990   8517612   8340672   8196363   3906342   418048     0    0\n",
      " 22000   8351463   7699085   7522145   7377836   3518421   396547     0    0\n",
      " 23000   7270073   6617695   6440755   6341457   3089411   351061     0    0\n",
      " 24000   6657871   6005493   5828553   5752976   2853884   327778     0    0\n",
      " 25000   5998646   5346268   5169328   5142596   2560498   278665     0    0\n",
      " 26000   5338195   4685817   4508877   4482145   2204246   253520     0    0\n",
      " 27000   4727292   4074914   3897974   3897974   1991864   226931     0    0\n",
      " 28000   4397721   3745343   3568403   3568403   1827099   199613     0    0\n",
      " 29000   4027421   3375043   3198103   3198103   1684109   171162     0    0\n",
      " 30000   3674500   3022122   2845182   2845182   1537050   171162     0    0\n",
      " 31000   3095696   2473502   2296562   2296562   1230763   109796     0    0\n",
      " 32000   2684452   2062258   1885318   1885318   1009389   109796     0    0\n",
      " 33000   2522336   1900142   1755692   1755692    879763    77387     0    0\n",
      " 34000   2355539   1733345   1588895   1588895    813082    77387     0    0\n",
      " 35000   2183924   1561730   1417280   1417280    778496    77387     0    0\n",
      " 36000   2112920   1490726   1346276   1346276    707492    77387     0    0\n",
      " 37000   1856450   1234256   1089806   1089806    597350    77387     0    0\n",
      " 38000   1743706   1121512    977062    977062    522225    77387     0    0\n",
      " 39000   1512241    928815    784365    784365    445119    39030     0    0\n",
      " 40000   1393798    810372    665922    665922    406089        0     0    0\n",
      " 45000    890204    431406    286956    286956    195640        0     0    0\n",
      " 50000    613153    154355     55576     55576     55576        0     0    0\n",
      " 55000    613153    154355     55576     55576     55576        0     0    0\n",
      " 60000    499206     98779         0         0         0        0     0    0\n",
      " 65000    436418     98779         0         0         0        0     0    0\n",
      " 70000    300655     98779         0         0         0        0     0    0\n",
      " 75000    300655     98779         0         0         0        0     0    0\n",
      " 80000    300655     98779         0         0         0        0     0    0\n",
      " 85000    300655     98779         0         0         0        0     0    0\n",
      " 90000    300655     98779         0         0         0        0     0    0\n",
      " 95000    207203     98779         0         0         0        0     0    0\n",
      "100000    108424         0         0         0         0        0     0    0\n",
      "120000         0         0         0         0         0        0     0    0\n",
      "\n",
      "          Number of reads >= bin by mean Phred+Len     \n",
      "minLen     Q4     Q5     Q6     Q7    Q8   Q9  Q10  Q11\n",
      "     0  14916  14904  14890  14273  6814  961    5    0\n",
      "   250  14880  14868  14854  14245  6804  958    3    0\n",
      "   500  14519  14507  14493  13920  6668  938    3    0\n",
      "   750  13575  13563  13550  13028  6256  877    3    0\n",
      "  1000  12601  12590  12578  12099  5784  802    1    0\n",
      "  1500  10817  10806  10795  10417  4961  679    0    0\n",
      "  2000   9288   9277   9266   8943  4247  589    0    0\n",
      "  2500   8023   8012   8002   7743  3639  499    0    0\n",
      "  3000   7400   7389   7380   7139  3335  454    0    0\n",
      "  3500   7360   7349   7340   7103  3323  452    0    0\n",
      "  4000   6536   6525   6517   6308  2937  400    0    0\n",
      "  4500   5820   5809   5801   5618  2586  355    0    0\n",
      "  5000   5239   5228   5221   5061  2354  319    0    0\n",
      "  5500   4714   4703   4697   4553  2123  280    0    0\n",
      "  6000   4222   4211   4205   4082  1890  246    0    0\n",
      "  6500   3801   3790   3784   3678  1694  211    0    0\n",
      "  7000   3429   3418   3412   3315  1521  185    0    0\n",
      "  7500   3095   3084   3078   2988  1367  172    0    0\n",
      "  8000   2817   2806   2800   2716  1243  161    0    0\n",
      "  8500   2548   2537   2531   2457  1131  146    0    0\n",
      "  9000   2325   2314   2308   2236  1025  134    0    0\n",
      "  9500   2108   2097   2091   2025   930  123    0    0\n",
      " 10000   1931   1920   1915   1854   848  113    0    0\n",
      " 11000   1602   1591   1587   1534   695   90    0    0\n",
      " 12000   1342   1331   1327   1282   580   73    0    0\n",
      " 13000   1129   1118   1115   1075   469   60    0    0\n",
      " 14000    944    933    930    902   397   48    0    0\n",
      " 15000    796    785    782    761   335   40    0    0\n",
      " 16000    688    677    674    655   293   35    0    0\n",
      " 17000    592    581    578    564   254   30    0    0\n",
      " 18000    506    495    492    482   218   24    0    0\n",
      " 19000    437    426    423    414   190   24    0    0\n",
      " 20000    371    360    357    351   157   20    0    0\n",
      " 21000    319    308    305    299   140   15    0    0\n",
      " 22000    281    270    267    261   122   14    0    0\n",
      " 23000    233    222    219    215   103   12    0    0\n",
      " 24000    207    196    193    190    93   11    0    0\n",
      " 25000    180    169    166    165    81    9    0    0\n",
      " 26000    154    143    140    139    67    8    0    0\n",
      " 27000    131    120    117    117    59    7    0    0\n",
      " 28000    119    108    105    105    53    6    0    0\n",
      " 29000    106     95     92     92    48    5    0    0\n",
      " 30000     94     83     80     80    43    5    0    0\n",
      " 31000     75     65     62     62    33    3    0    0\n",
      " 32000     62     52     49     49    26    3    0    0\n",
      " 33000     57     47     45     45    22    2    0    0\n",
      " 34000     52     42     40     40    20    2    0    0\n",
      " 35000     47     37     35     35    19    2    0    0\n",
      " 36000     45     35     33     33    17    2    0    0\n",
      " 37000     38     28     26     26    14    2    0    0\n",
      " 38000     35     25     23     23    12    2    0    0\n",
      " 39000     29     20     18     18    10    1    0    0\n",
      " 40000     26     17     15     15     9    0    0    0\n",
      " 45000     14      8      6      6     4    0    0    0\n",
      " 50000      8      2      1      1     1    0    0    0\n",
      " 55000      8      2      1      1     1    0    0    0\n",
      " 60000      6      1      0      0     0    0    0    0\n",
      " 65000      5      1      0      0     0    0    0    0\n",
      " 70000      3      1      0      0     0    0    0    0\n",
      " 75000      3      1      0      0     0    0    0    0\n",
      " 80000      3      1      0      0     0    0    0    0\n",
      " 85000      3      1      0      0     0    0    0    0\n",
      " 90000      3      1      0      0     0    0    0    0\n",
      " 95000      2      1      0      0     0    0    0    0\n",
      "100000      1      0      0      0     0    0    0    0\n",
      "120000      0      0      0      0     0    0    0    0\n",
      "\n"
     ]
    },
    {
     "name": "stdout",
     "output_type": "stream",
     "text": [
      "/Library/Frameworks/Python.framework/Versions/3.6/lib/python3.6/site-packages/matplotlib/cbook/deprecation.py:107: MatplotlibDeprecationWarning: Passing one of 'on', 'true', 'off', 'false' as a boolean is deprecated; use an actual boolean (True/False) instead.\n",
      "  warnings.warn(message, mplDeprecation, stacklevel=1)\n",
      "plotting in the following window:\n",
      "        0 <= Q-score (x-axis) <= 11.0\n",
      "        0 <= length  (y-axis) <= 26416\n"
     ]
    }
   ],
   "source": [
    "!pauvre marginplot --fastq /Users/camilaisaza/Documents/9._Noveno_semestre_2018-1/Analisis_de_secuencias/All_folders_taller_1/outputporetools.fq"
   ]
  },
  {
   "cell_type": "markdown",
   "metadata": {},
   "source": [
    "Al hacer el ensamble con minimap2/miniasm de los fastq producidos por poretools se obtuvo un único contig que cubre todo el genoma del fago lambda, es por esto que todos los valores de la medida Nx son iguales. La longitud del contig fue de 46,890 bp, valor muy cercano al registrado en el NCBI de 48,502 bp. El contig obtenido tiene un contenido Guanina-citocina del 50.15% lo cual significa que este genoma cuenta con un alto grado de estabilidad. "
   ]
  }
 ],
 "metadata": {
  "kernelspec": {
   "display_name": "Python 3",
   "language": "python",
   "name": "python3"
  },
  "language_info": {
   "codemirror_mode": {
    "name": "ipython",
    "version": 3
   },
   "file_extension": ".py",
   "mimetype": "text/x-python",
   "name": "python",
   "nbconvert_exporter": "python",
   "pygments_lexer": "ipython3",
   "version": "3.6.4"
  }
 },
 "nbformat": 4,
 "nbformat_minor": 2
}
