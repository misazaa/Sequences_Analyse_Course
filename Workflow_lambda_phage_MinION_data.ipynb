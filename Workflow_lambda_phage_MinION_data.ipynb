{
 "cells": [
  {
   "cell_type": "markdown",
   "metadata": {},
   "source": [
    "<br>\n",
    "<br>\n",
    "<h1 align=\"center\">__Workflow for Lambda phage MinION data analysis (Folder 1)__</h1>\n",
    "<br>\n",
    "<br>\n",
    "<h3 align=\"center\">By Maria Camila Isaza</h3>\n",
    "<h4 align=\"center\">April 2018</h4>\n",
    "<br>"
   ]
  },
  {
   "cell_type": "markdown",
   "metadata": {},
   "source": [
    "### Aproach and metodology\n",
    "We wil be using the following workflow to analyze subsets of MinION data files \n",
    "<br>\n",
    "<br>\n",
    "<img src=\"workflow.png\">"
   ]
  },
  {
   "cell_type": "markdown",
   "metadata": {},
   "source": [
    "### 1. Data collection\n",
    "We are going to work with Oxford Nanopore sequencing data from the Lambda phage. For this assembly we are just taking the .fast5 files from the folder #1. The size of this folder is 4.06 GB on disk and it contains 4,000 items."
   ]
  },
  {
   "cell_type": "markdown",
   "metadata": {},
   "source": [
    "### 2. Basecalling\n",
    "We will be using albacore 1.1.1, which is available to download from the ONT community"
   ]
  },
  {
   "cell_type": "markdown",
   "metadata": {},
   "source": [
    " We run with the -h option to get the usage instructions and the optional arguments"
   ]
  },
  {
   "cell_type": "code",
   "execution_count": 2,
   "metadata": {},
   "outputs": [
    {
     "name": "stdout",
     "output_type": "stream",
     "text": [
      "usage: read_fast5_basecaller.py [-h] [-l] [-v] [-i INPUT] -t WORKER_THREADS -s\r\n",
      "                                SAVE_PATH [--resume [X]] [-f FLOWCELL]\r\n",
      "                                [-k KIT] [--barcoding] [-c CONFIG]\r\n",
      "                                [-d DATA_PATH] [-b] [-r]\r\n",
      "                                [-n FILES_PER_BATCH_FOLDER] [-o OUTPUT_FORMAT]\r\n",
      "                                [-q READS_PER_FASTQ_BATCH]\r\n",
      "                                [--disable_filtering] [--disable_pings]\r\n",
      "\r\n",
      "ONT Albacore Sequencing Pipeline Software\r\n",
      "\r\n",
      "optional arguments:\r\n",
      "  -h, --help            show this help message and exit\r\n",
      "  -l, --list_workflows  List standard flowcell / kit combinations.\r\n",
      "  -v, --version         Print the software version.\r\n",
      "  -i INPUT, --input INPUT\r\n",
      "                        Folder containing read fast5 files (if not present,\r\n",
      "                        will expect file names on stdin).\r\n",
      "  -t WORKER_THREADS, --worker_threads WORKER_THREADS\r\n",
      "                        Number of worker threads to use.\r\n",
      "  -s SAVE_PATH, --save_path SAVE_PATH\r\n",
      "                        Path to save output.\r\n",
      "  --resume [X]          Resume previous run for the given save path. Optional\r\n",
      "                        parameter X is for debugging purposes only.\r\n",
      "  -f FLOWCELL, --flowcell FLOWCELL\r\n",
      "                        Flowcell used during the sequencing run.\r\n",
      "  -k KIT, --kit KIT     Kit used during the sequencing run.\r\n",
      "  --barcoding           Search for barcodes to demultiplex sequencing data.\r\n",
      "  -c CONFIG, --config CONFIG\r\n",
      "                        Optional configuration file to use.\r\n",
      "  -d DATA_PATH, --data_path DATA_PATH\r\n",
      "                        Optional path to model files.\r\n",
      "  -b, --debug           Output additional debug information to the log.\r\n",
      "  -r, --recursive       Recurse through subfolders for input data files.\r\n",
      "  -n FILES_PER_BATCH_FOLDER, --files_per_batch_folder FILES_PER_BATCH_FOLDER\r\n",
      "                        Maximum number of files in each batch subfolder. Set\r\n",
      "                        to 0 to disable batch subfolders.\r\n",
      "  -o OUTPUT_FORMAT, --output_format OUTPUT_FORMAT\r\n",
      "                        desired output format, can be fastq,fast5 or only one\r\n",
      "                        of these.\r\n",
      "  -q READS_PER_FASTQ_BATCH, --reads_per_fastq_batch READS_PER_FASTQ_BATCH\r\n",
      "                        number of reads per FastQ batch file. Set to 1 to\r\n",
      "                        receive one reads per file and file names which\r\n",
      "                        include the read ID. Set to 0 to have all reads per\r\n",
      "                        run ID written to one file.\r\n",
      "  --disable_filtering   Disable filtering into pass/fail folders\r\n",
      "  --disable_pings       Do not send summary information about the run\r\n"
     ]
    }
   ],
   "source": [
    "!read_fast5_basecaller.py -h"
   ]
  },
  {
   "cell_type": "markdown",
   "metadata": {},
   "source": [
    "Then we run the option -l to get the list of available configs used during the sequencing"
   ]
  },
  {
   "cell_type": "code",
   "execution_count": 3,
   "metadata": {},
   "outputs": [
    {
     "name": "stdout",
     "output_type": "stream",
     "text": [
      "Parsing config files in /Users/camilaisaza/anaconda3/lib/python3.6/site-packages/albacore/data_versioned.\n",
      "Available flowcell + kit combinations are:\n",
      "flowcell    kit         barcoding  config file\n",
      "FLO-MIN106  SQK-DCS108             r94_450bps_linear.cfg\n",
      "FLO-MIN106  SQK-LSK108             r94_450bps_linear.cfg\n",
      "FLO-MIN106  SQK-LWB001  included   r94_450bps_linear.cfg\n",
      "FLO-MIN106  SQK-LWP001             r94_450bps_linear.cfg\n",
      "FLO-MIN106  SQK-PCS108             r94_450bps_linear.cfg\n",
      "FLO-MIN106  SQK-PSB004  included   r94_450bps_linear.cfg\n",
      "FLO-MIN106  SQK-PSK004             r94_450bps_linear.cfg\n",
      "FLO-MIN106  SQK-RAB201  included   r94_450bps_linear.cfg\n",
      "FLO-MIN106  SQK-RAB204  included   r94_450bps_linear.cfg\n",
      "FLO-MIN106  SQK-RAD002             r94_450bps_linear.cfg\n",
      "FLO-MIN106  SQK-RAD003             r94_450bps_linear.cfg\n",
      "FLO-MIN106  SQK-RAD004             r94_450bps_linear.cfg\n",
      "FLO-MIN106  SQK-RAS201             r94_450bps_linear.cfg\n",
      "FLO-MIN106  SQK-RBK001  included   r94_450bps_linear.cfg\n",
      "FLO-MIN106  SQK-RBK004  included   r94_450bps_linear.cfg\n",
      "FLO-MIN106  SQK-RLB001  included   r94_450bps_linear.cfg\n",
      "FLO-MIN106  SQK-RLI001             r94_450bps_linear.cfg\n",
      "FLO-MIN106  SQK-RNA001             r941_70bps_rna_linear.cfg\n",
      "FLO-MIN106  SQK-RPB004  included   r94_450bps_linear.cfg\n",
      "FLO-MIN106  VSK-VBK001             r94_450bps_linear.cfg\n",
      "FLO-MIN106  VSK-VSK001             r94_450bps_linear.cfg\n",
      "FLO-MIN107  SQK-DCS108             r95_450bps_linear.cfg\n",
      "FLO-MIN107  SQK-LSK108             r95_450bps_linear.cfg\n",
      "FLO-MIN107  SQK-LWB001  included   r95_450bps_linear.cfg\n",
      "FLO-MIN107  SQK-LWP001             r95_450bps_linear.cfg\n",
      "FLO-MIN107  SQK-PCS108             r95_450bps_linear.cfg\n",
      "FLO-MIN107  SQK-PSB004  included   r95_450bps_linear.cfg\n",
      "FLO-MIN107  SQK-PSK004             r95_450bps_linear.cfg\n",
      "FLO-MIN107  SQK-RAB201  included   r95_450bps_linear.cfg\n",
      "FLO-MIN107  SQK-RAB204  included   r95_450bps_linear.cfg\n",
      "FLO-MIN107  SQK-RAD002             r95_450bps_linear.cfg\n",
      "FLO-MIN107  SQK-RAD003             r95_450bps_linear.cfg\n",
      "FLO-MIN107  SQK-RAD004             r95_450bps_linear.cfg\n",
      "FLO-MIN107  SQK-RAS201             r95_450bps_linear.cfg\n",
      "FLO-MIN107  SQK-RBK001  included   r95_450bps_linear.cfg\n",
      "FLO-MIN107  SQK-RBK004  included   r95_450bps_linear.cfg\n",
      "FLO-MIN107  SQK-RLB001  included   r95_450bps_linear.cfg\n",
      "FLO-MIN107  SQK-RLI001             r95_450bps_linear.cfg\n",
      "FLO-MIN107  SQK-RNA001             r941_70bps_rna_linear.cfg\n",
      "FLO-MIN107  SQK-RPB004  included   r95_450bps_linear.cfg\n",
      "FLO-MIN107  VSK-VBK001             r95_450bps_linear.cfg\n",
      "FLO-MIN107  VSK-VSK001             r95_450bps_linear.cfg\n",
      "FLO-PRO001  SQK-LSK109             r941_450bps_linear_prom.cfg\n"
     ]
    }
   ],
   "source": [
    "!read_fast5_basecaller.py -l"
   ]
  },
  {
   "cell_type": "markdown",
   "metadata": {},
   "source": [
    "Finally, we choose the arguments -i, -t, -s, -o and -c to do the base-calling and we select the config file r94_450bps_linear.cfg as the flowcell and the kit used were FLO-MIN106 and SQK-DCS108 respectively. The optional arguments means:\n",
    "-  -i: input file \n",
    "-  -r: recursively search\n",
    "-  -t: number of threads\n",
    "-  -s: output directory\n",
    "-  -o: output format\n",
    "-  -c: config file\n",
    "\n",
    "We cd into the directory containing the reads files and then we run the code: "
   ]
  },
  {
   "cell_type": "code",
   "execution_count": 15,
   "metadata": {},
   "outputs": [],
   "source": [
    "!read_fast5_basecaller.py -i inputfile -r -t 4 -s outputdirectory -o fastq,fast5 -c r94_450bps_linear.cfg "
   ]
  },
  {
   "cell_type": "markdown",
   "metadata": {},
   "source": [
    "### 3. Extraction of FASTQ files using Poretools\n",
    "As poretools uses Python 2 we have to create a virtual environment to install and run the program"
   ]
  },
  {
   "cell_type": "markdown",
   "metadata": {},
   "source": [
    "To install virtualenv, we run:"
   ]
  },
  {
   "cell_type": "code",
   "execution_count": 14,
   "metadata": {},
   "outputs": [],
   "source": [
    "!pip install virtualenv"
   ]
  },
  {
   "cell_type": "markdown",
   "metadata": {},
   "source": [
    "We cd into the directory of the virtual environment and then we run:"
   ]
  },
  {
   "cell_type": "code",
   "execution_count": 16,
   "metadata": {},
   "outputs": [],
   "source": [
    "!virtualenv -p /usr/bin/python2.7 venvpython2\n",
    "!source venvpython2/bin/activate"
   ]
  },
  {
   "cell_type": "markdown",
   "metadata": {},
   "source": [
    "So in this environment we install poretools and then to extract the fastq files, we run:"
   ]
  },
  {
   "cell_type": "code",
   "execution_count": 17,
   "metadata": {},
   "outputs": [],
   "source": [
    "|poretools fastq directory_of_fast5"
   ]
  },
  {
   "cell_type": "markdown",
   "metadata": {},
   "source": [
    "Finally, we can exit the virtual environment running:"
   ]
  },
  {
   "cell_type": "code",
   "execution_count": 18,
   "metadata": {},
   "outputs": [],
   "source": [
    "!deactivate"
   ]
  },
  {
   "cell_type": "markdown",
   "metadata": {},
   "source": [
    "### 4. _De novo_ assembly"
   ]
  },
  {
   "cell_type": "code",
   "execution_count": null,
   "metadata": {},
   "outputs": [],
   "source": []
  },
  {
   "cell_type": "code",
   "execution_count": null,
   "metadata": {},
   "outputs": [],
   "source": [
    "#./minimap2 -a test/MT-human.fa test/MT-orang.fa > test.sam"
   ]
  },
  {
   "cell_type": "code",
   "execution_count": null,
   "metadata": {},
   "outputs": [],
   "source": []
  },
  {
   "cell_type": "code",
   "execution_count": null,
   "metadata": {},
   "outputs": [],
   "source": []
  },
  {
   "cell_type": "code",
   "execution_count": null,
   "metadata": {},
   "outputs": [],
   "source": []
  },
  {
   "cell_type": "code",
   "execution_count": null,
   "metadata": {},
   "outputs": [],
   "source": []
  },
  {
   "cell_type": "code",
   "execution_count": null,
   "metadata": {},
   "outputs": [],
   "source": []
  },
  {
   "cell_type": "markdown",
   "metadata": {},
   "source": [
    "<h3 align=\"center\">Workflow for Lambda phage MinION data analysis (Folder 1)</h3>  \n",
    "<h6 align=\"center\">by Maria Camila Isaza Álvarez</h6>"
   ]
  },
  {
   "cell_type": "markdown",
   "metadata": {},
   "source": [
    "### 1. Data collection"
   ]
  },
  {
   "cell_type": "markdown",
   "metadata": {},
   "source": [
    "We are going to work with Oxford Nanopore sequencing data from the Lambda phage. For this assembly we are just taking the .fast5 files from the folder #1. The size of this folder is 4.06 GB on disk and it contains 4,000 items.  "
   ]
  },
  {
   "cell_type": "markdown",
   "metadata": {},
   "source": [
    "### 2. Basecalling"
   ]
  },
  {
   "cell_type": "markdown",
   "metadata": {},
   "source": [
    "We will be using albacore 1.1.1, which is available to download from the ONT community"
   ]
  },
  {
   "cell_type": "code",
   "execution_count": 4,
   "metadata": {},
   "outputs": [],
   "source": [
    "# cd into the directory containing the reads files\n",
    "!cd workspace/"
   ]
  },
  {
   "cell_type": "markdown",
   "metadata": {},
   "source": [
    "### 1. Basecalling using albacore"
   ]
  },
  {
   "cell_type": "code",
   "execution_count": 5,
   "metadata": {},
   "outputs": [
    {
     "name": "stdout",
     "output_type": "stream",
     "text": [
      "Traceback (most recent call last):\n",
      "  File \"/Users/camilaisaza/anaconda3/bin/read_fast5_basecaller.py\", line 69, in <module>\n",
      "    from albacore.input_utils import list_input_files\n",
      "  File \"/Users/camilaisaza/anaconda3/lib/python3.6/site-packages/albacore/input_utils.py\", line 7, in <module>\n",
      "    from albacore import log_utils\n",
      "  File \"/Users/camilaisaza/anaconda3/lib/python3.6/site-packages/albacore/log_utils.py\", line 5, in <module>\n",
      "    from albacore.pipeline_core import get_debug_level\n",
      "ImportError: dlopen(/Users/camilaisaza/anaconda3/lib/python3.6/site-packages/albacore/pipeline_core.cpython-36m-darwin.so, 2): Library not loaded: /usr/local/opt/python3/Frameworks/Python.framework/Versions/3.6/Python\n",
      "  Referenced from: /Users/camilaisaza/anaconda3/lib/python3.6/site-packages/albacore/pipeline_core.cpython-36m-darwin.so\n",
      "  Reason: image not found\n"
     ]
    }
   ],
   "source": [
    "!read_fast5_basecaller.py\n",
    "\n",
    "\n",
    "Documents/9._Noveno_semestre_2018-1/Analisis_de_secuencias/Taller_1/1\n",
    "\n",
    "\n",
    "read_fast5_basecaller.py -i /Documents/9._Noveno_semestre_2018-1/Analisis_de_secuencias/Taller_1/1/                    -r \\\n",
    "                         -t 4 \\\n",
    "                         -s basecalled_albacore \\\n",
    "                         -o fastq,fast5 \\\n",
    "                         -c r94_450bps_linear.cfg \\\n",
    "                         --barcoding\n",
    "\n",
    "read_fast5_basecaller.py -i /Documents/9._Noveno_semestre_2018-1/Analisis_de_secuencias/Taller_1/1/ -t 4 -s basecalled_albacore -o fastq,fast5 -c r94_450bps_linear.cfg --barcoding\n",
    "\n",
    "read_fast5_basecaller.py -i  nanopore_run_sample -r -t 4 -s basecalled_albacore -o fastq.fast5 -f\n",
    "\n",
    "read_fast5_basecaller.py -i nanopore_1_sample -r -t 4 -s basecalled_albacore -o fastq,fast5 -c r94_450bps_linear.cfg \n",
    "\n",
    "\n",
    "MacBook-Pro-de-Camila:~ camilaisaza$ cd Documents/9._Noveno_semestre_2018-1/Analisis_de_secuencias/Taller_1/\n",
    "MacBook-Pro-de-Camila:Taller_1 camilaisaza$ read_fast5_basecaller.py -i nanopore_1_sample -r -t 4 -s basecalled_albacore -o fastq,fast5 -c r94_450bps_linear.cfg \n",
    "| 3999 of 3999|##############################################|100% Time: 0:58:34\n"
   ]
  },
  {
   "cell_type": "code",
   "execution_count": null,
   "metadata": {},
   "outputs": [],
   "source": [
    "\"\"\"\"\n",
    "usage: read_fast5_basecaller.py [-h] [-l] [-v] -i INPUT -t WORKER_THREADS -s\n",
    "                                SAVE_PATH [-f FLOWCELL] [-k KIT] [--barcoding]\n",
    "                                [-c CONFIG] [-d DATA_PATH] [-b] [-r]\n",
    "                                [-n FILES_PER_BATCH_FOLDER] [-o OUTPUT_FORMAT]\n",
    "                                [-q READS_PER_FASTQ_BATCH]\n",
    "\n",
    "ONT Albacore Sequencing Pipeline Software\n",
    "\n",
    "optional arguments:\n",
    "  -h, --help            show this help message and exit\n",
    "  -l, --list_workflows  List standard flowcell / kit combinations.\n",
    "  -v, --version         Print the software version.\n",
    "  -i INPUT, --input INPUT\n",
    "                        Folder containing read fast5 files (if not present,\n",
    "                        will expect file names on stdin).\n",
    "  -t WORKER_THREADS, --worker_threads WORKER_THREADS\n",
    "                        Number of worker threads to use.\n",
    "  -s SAVE_PATH, --save_path SAVE_PATH\n",
    "                        Path to save output.\n",
    "  -f FLOWCELL, --flowcell FLOWCELL\n",
    "                        Flowcell used during the sequencing run.\n",
    "  -k KIT, --kit KIT     Kit used during the sequencing run.\n",
    "  --barcoding           Search for barcodes to demultiplex sequencing data.\n",
    "  -c CONFIG, --config CONFIG\n",
    "                        Optional configuration file to use.\n",
    "  -d DATA_PATH, --data_path DATA_PATH\n",
    "                        Optional path to model files.\n",
    "  -b, --debug           Output additional debug information to the log.\n",
    "  -r, --recursive       Recurse through subfolders for input data files.\n",
    "  -n FILES_PER_BATCH_FOLDER, --files_per_batch_folder FILES_PER_BATCH_FOLDER\n",
    "                        Maximum number of files in each batch subfolder. Set\n",
    "                        to 0 to disable batch subfolders.\n",
    "  -o OUTPUT_FORMAT, --output_format OUTPUT_FORMAT\n",
    "                        desired output format, can be fastq,fast5 or only one\n",
    "                        of these.\n",
    "  -q READS_PER_FASTQ_BATCH, --reads_per_fastq_batch READS_PER_FASTQ_BATCH\n",
    "                        number of reads per FastQ batch file. Set to 0 to\n",
    "                        receive one reads per file and file names which\n",
    "                        include the read ID.\n",
    "\"\"\"\""
   ]
  },
  {
   "cell_type": "markdown",
   "metadata": {},
   "source": [
    "Correr workflow hasta ensamble \n",
    "\n",
    "\n",
    "\n",
    "-k SQK-LSK108 -f FLO-MIN106\n",
    "\n",
    "reads con errores debido a la secuenciacion\n",
    "nosotros estimamos error debido a los metodos "
   ]
  },
  {
   "cell_type": "code",
   "execution_count": null,
   "metadata": {},
   "outputs": [],
   "source": []
  },
  {
   "cell_type": "code",
   "execution_count": null,
   "metadata": {},
   "outputs": [],
   "source": []
  }
 ],
 "metadata": {
  "kernelspec": {
   "display_name": "Python 3",
   "language": "python",
   "name": "python3"
  },
  "language_info": {
   "codemirror_mode": {
    "name": "ipython",
    "version": 3
   },
   "file_extension": ".py",
   "mimetype": "text/x-python",
   "name": "python",
   "nbconvert_exporter": "python",
   "pygments_lexer": "ipython3",
   "version": "3.6.4"
  }
 },
 "nbformat": 4,
 "nbformat_minor": 2
}
